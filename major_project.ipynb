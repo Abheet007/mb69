{
 "cells": [
  {
   "cell_type": "code",
   "execution_count": 28,
   "metadata": {},
   "outputs": [],
   "source": [
    "import pandas as pd\n",
    "import numpy as np\n",
    "import seaborn as sns\n",
    "import matplotlib.pyplot as plt"
   ]
  },
  {
   "cell_type": "markdown",
   "metadata": {},
   "source": [
    "## Data analysis"
   ]
  },
  {
   "cell_type": "code",
   "execution_count": 29,
   "metadata": {},
   "outputs": [],
   "source": [
    "d=pd.read_csv(r\"C:\\Users\\Asus\\Desktop\\Verzeo_Major_Project_Dataset.csv\")"
   ]
  },
  {
   "cell_type": "code",
   "execution_count": 30,
   "metadata": {},
   "outputs": [
    {
     "name": "stdout",
     "output_type": "stream",
     "text": [
      "<class 'pandas.core.frame.DataFrame'>\n",
      "RangeIndex: 15000 entries, 0 to 14999\n",
      "Data columns (total 3 columns):\n",
      "Unnamed: 0            15000 non-null int64\n",
      "Product               15000 non-null object\n",
      "Consumer_complaint    15000 non-null object\n",
      "dtypes: int64(1), object(2)\n",
      "memory usage: 351.7+ KB\n"
     ]
    }
   ],
   "source": [
    "d.info()"
   ]
  },
  {
   "cell_type": "code",
   "execution_count": 31,
   "metadata": {},
   "outputs": [
    {
     "data": {
      "text/html": [
       "<div>\n",
       "<style scoped>\n",
       "    .dataframe tbody tr th:only-of-type {\n",
       "        vertical-align: middle;\n",
       "    }\n",
       "\n",
       "    .dataframe tbody tr th {\n",
       "        vertical-align: top;\n",
       "    }\n",
       "\n",
       "    .dataframe thead th {\n",
       "        text-align: right;\n",
       "    }\n",
       "</style>\n",
       "<table border=\"1\" class=\"dataframe\">\n",
       "  <thead>\n",
       "    <tr style=\"text-align: right;\">\n",
       "      <th></th>\n",
       "      <th>Unnamed: 0</th>\n",
       "      <th>Product</th>\n",
       "      <th>Consumer_complaint</th>\n",
       "    </tr>\n",
       "  </thead>\n",
       "  <tbody>\n",
       "    <tr>\n",
       "      <td>0</td>\n",
       "      <td>310399</td>\n",
       "      <td>Credit reporting, repair, or other</td>\n",
       "      <td>Bayview completely ignored laws and is reporti...</td>\n",
       "    </tr>\n",
       "    <tr>\n",
       "      <td>1</td>\n",
       "      <td>186155</td>\n",
       "      <td>Credit reporting, repair, or other</td>\n",
       "      <td>inaccurate information no knowledge of account...</td>\n",
       "    </tr>\n",
       "    <tr>\n",
       "      <td>2</td>\n",
       "      <td>651135</td>\n",
       "      <td>Debt collection</td>\n",
       "      <td>On XXXX/XXXX/2016 I received a notice from Con...</td>\n",
       "    </tr>\n",
       "    <tr>\n",
       "      <td>3</td>\n",
       "      <td>515233</td>\n",
       "      <td>Consumer Loan</td>\n",
       "      <td>I have a loan with  Kia Motor Finance. I  rece...</td>\n",
       "    </tr>\n",
       "    <tr>\n",
       "      <td>4</td>\n",
       "      <td>641112</td>\n",
       "      <td>Credit card or prepaid card</td>\n",
       "      <td>I have a XXXX BIG card and made my payment whe...</td>\n",
       "    </tr>\n",
       "  </tbody>\n",
       "</table>\n",
       "</div>"
      ],
      "text/plain": [
       "   Unnamed: 0                             Product  \\\n",
       "0      310399  Credit reporting, repair, or other   \n",
       "1      186155  Credit reporting, repair, or other   \n",
       "2      651135                     Debt collection   \n",
       "3      515233                       Consumer Loan   \n",
       "4      641112         Credit card or prepaid card   \n",
       "\n",
       "                                  Consumer_complaint  \n",
       "0  Bayview completely ignored laws and is reporti...  \n",
       "1  inaccurate information no knowledge of account...  \n",
       "2  On XXXX/XXXX/2016 I received a notice from Con...  \n",
       "3  I have a loan with  Kia Motor Finance. I  rece...  \n",
       "4  I have a XXXX BIG card and made my payment whe...  "
      ]
     },
     "execution_count": 31,
     "metadata": {},
     "output_type": "execute_result"
    }
   ],
   "source": [
    "d.head(5)"
   ]
  },
  {
   "cell_type": "code",
   "execution_count": 32,
   "metadata": {},
   "outputs": [
    {
     "data": {
      "text/html": [
       "<div>\n",
       "<style scoped>\n",
       "    .dataframe tbody tr th:only-of-type {\n",
       "        vertical-align: middle;\n",
       "    }\n",
       "\n",
       "    .dataframe tbody tr th {\n",
       "        vertical-align: top;\n",
       "    }\n",
       "\n",
       "    .dataframe thead th {\n",
       "        text-align: right;\n",
       "    }\n",
       "</style>\n",
       "<table border=\"1\" class=\"dataframe\">\n",
       "  <thead>\n",
       "    <tr style=\"text-align: right;\">\n",
       "      <th></th>\n",
       "      <th>Unnamed: 0</th>\n",
       "      <th>Product</th>\n",
       "      <th>Consumer_complaint</th>\n",
       "    </tr>\n",
       "  </thead>\n",
       "  <tbody>\n",
       "    <tr>\n",
       "      <td>14995</td>\n",
       "      <td>416749</td>\n",
       "      <td>Debt collection</td>\n",
       "      <td>I have not received any documentation validati...</td>\n",
       "    </tr>\n",
       "    <tr>\n",
       "      <td>14996</td>\n",
       "      <td>252613</td>\n",
       "      <td>Credit card or prepaid card</td>\n",
       "      <td>The problem that I have is that I am being tol...</td>\n",
       "    </tr>\n",
       "    <tr>\n",
       "      <td>14997</td>\n",
       "      <td>143818</td>\n",
       "      <td>Vehicle loan or lease</td>\n",
       "      <td>Capital One Auto Finance continues to report a...</td>\n",
       "    </tr>\n",
       "    <tr>\n",
       "      <td>14998</td>\n",
       "      <td>724158</td>\n",
       "      <td>Bank account or service</td>\n",
       "      <td>I previously have had an account with PNC Bank...</td>\n",
       "    </tr>\n",
       "    <tr>\n",
       "      <td>14999</td>\n",
       "      <td>516260</td>\n",
       "      <td>Credit reporting, repair, or other</td>\n",
       "      <td>I have XXXX hard inquiries on my Equifax credi...</td>\n",
       "    </tr>\n",
       "  </tbody>\n",
       "</table>\n",
       "</div>"
      ],
      "text/plain": [
       "       Unnamed: 0                             Product  \\\n",
       "14995      416749                     Debt collection   \n",
       "14996      252613         Credit card or prepaid card   \n",
       "14997      143818               Vehicle loan or lease   \n",
       "14998      724158             Bank account or service   \n",
       "14999      516260  Credit reporting, repair, or other   \n",
       "\n",
       "                                      Consumer_complaint  \n",
       "14995  I have not received any documentation validati...  \n",
       "14996  The problem that I have is that I am being tol...  \n",
       "14997  Capital One Auto Finance continues to report a...  \n",
       "14998  I previously have had an account with PNC Bank...  \n",
       "14999  I have XXXX hard inquiries on my Equifax credi...  "
      ]
     },
     "execution_count": 32,
     "metadata": {},
     "output_type": "execute_result"
    }
   ],
   "source": [
    "d.tail(5)"
   ]
  },
  {
   "cell_type": "code",
   "execution_count": 33,
   "metadata": {},
   "outputs": [
    {
     "data": {
      "text/html": [
       "<div>\n",
       "<style scoped>\n",
       "    .dataframe tbody tr th:only-of-type {\n",
       "        vertical-align: middle;\n",
       "    }\n",
       "\n",
       "    .dataframe tbody tr th {\n",
       "        vertical-align: top;\n",
       "    }\n",
       "\n",
       "    .dataframe thead th {\n",
       "        text-align: right;\n",
       "    }\n",
       "</style>\n",
       "<table border=\"1\" class=\"dataframe\">\n",
       "  <thead>\n",
       "    <tr style=\"text-align: right;\">\n",
       "      <th></th>\n",
       "      <th>Unnamed: 0</th>\n",
       "    </tr>\n",
       "  </thead>\n",
       "  <tbody>\n",
       "    <tr>\n",
       "      <td>count</td>\n",
       "      <td>15000.000000</td>\n",
       "    </tr>\n",
       "    <tr>\n",
       "      <td>mean</td>\n",
       "      <td>467805.049533</td>\n",
       "    </tr>\n",
       "    <tr>\n",
       "      <td>std</td>\n",
       "      <td>245536.970138</td>\n",
       "    </tr>\n",
       "    <tr>\n",
       "      <td>min</td>\n",
       "      <td>35071.000000</td>\n",
       "    </tr>\n",
       "    <tr>\n",
       "      <td>25%</td>\n",
       "      <td>260609.750000</td>\n",
       "    </tr>\n",
       "    <tr>\n",
       "      <td>50%</td>\n",
       "      <td>457947.500000</td>\n",
       "    </tr>\n",
       "    <tr>\n",
       "      <td>75%</td>\n",
       "      <td>675431.000000</td>\n",
       "    </tr>\n",
       "    <tr>\n",
       "      <td>max</td>\n",
       "      <td>912443.000000</td>\n",
       "    </tr>\n",
       "  </tbody>\n",
       "</table>\n",
       "</div>"
      ],
      "text/plain": [
       "          Unnamed: 0\n",
       "count   15000.000000\n",
       "mean   467805.049533\n",
       "std    245536.970138\n",
       "min     35071.000000\n",
       "25%    260609.750000\n",
       "50%    457947.500000\n",
       "75%    675431.000000\n",
       "max    912443.000000"
      ]
     },
     "execution_count": 33,
     "metadata": {},
     "output_type": "execute_result"
    }
   ],
   "source": [
    "d.describe()"
   ]
  },
  {
   "cell_type": "code",
   "execution_count": 34,
   "metadata": {},
   "outputs": [
    {
     "data": {
      "text/plain": [
       "0"
      ]
     },
     "execution_count": 34,
     "metadata": {},
     "output_type": "execute_result"
    }
   ],
   "source": [
    "sum(d.duplicated())"
   ]
  },
  {
   "cell_type": "code",
   "execution_count": 35,
   "metadata": {},
   "outputs": [
    {
     "data": {
      "text/plain": [
       "0        Bayview completely ignored laws and is reporti...\n",
       "1        inaccurate information no knowledge of account...\n",
       "2        On XXXX/XXXX/2016 I received a notice from Con...\n",
       "3        I have a loan with  Kia Motor Finance. I  rece...\n",
       "4        I have a XXXX BIG card and made my payment whe...\n",
       "                               ...                        \n",
       "14995    I have not received any documentation validati...\n",
       "14996    The problem that I have is that I am being tol...\n",
       "14997    Capital One Auto Finance continues to report a...\n",
       "14998    I previously have had an account with PNC Bank...\n",
       "14999    I have XXXX hard inquiries on my Equifax credi...\n",
       "Name: Consumer_complaint, Length: 15000, dtype: object"
      ]
     },
     "execution_count": 35,
     "metadata": {},
     "output_type": "execute_result"
    }
   ],
   "source": [
    "d[\"Consumer_complaint\"]\n"
   ]
  },
  {
   "cell_type": "code",
   "execution_count": 36,
   "metadata": {},
   "outputs": [
    {
     "data": {
      "text/plain": [
       "0        Bayview completely ignored laws and is reporti...\n",
       "1        inaccurate information no knowledge of account...\n",
       "2        On XXXX XXXX      I received a notice from Con...\n",
       "3        I have a loan with  Kia Motor Finance  I  rece...\n",
       "4        I have a XXXX BIG card and made my payment whe...\n",
       "                               ...                        \n",
       "14995    I have not received any documentation validati...\n",
       "14996    The problem that I have is that I am being tol...\n",
       "14997    Capital One Auto Finance continues to report a...\n",
       "14998    I previously have had an account with PNC Bank...\n",
       "14999    I have XXXX hard inquiries on my Equifax credi...\n",
       "Name: Consumer_complaint, Length: 15000, dtype: object"
      ]
     },
     "execution_count": 36,
     "metadata": {},
     "output_type": "execute_result"
    }
   ],
   "source": [
    "import re\n",
    "x=d['Consumer_complaint'].copy()\n",
    "for i in range(len(x)):\n",
    "    y=x[i]\n",
    "    x[i]=re.sub('[^a-zA-Z]',' ',y)\n",
    "    \n",
    "x"
   ]
  },
  {
   "cell_type": "markdown",
   "metadata": {},
   "source": [
    "## Data Cleaning"
   ]
  },
  {
   "cell_type": "code",
   "execution_count": 37,
   "metadata": {},
   "outputs": [
    {
     "name": "stderr",
     "output_type": "stream",
     "text": [
      "[nltk_data] Downloading package punkt to\n",
      "[nltk_data]     C:\\Users\\Asus\\AppData\\Roaming\\nltk_data...\n",
      "[nltk_data]   Package punkt is already up-to-date!\n",
      "[nltk_data] Downloading package stopwords to\n",
      "[nltk_data]     C:\\Users\\Asus\\AppData\\Roaming\\nltk_data...\n",
      "[nltk_data]   Package stopwords is already up-to-date!\n"
     ]
    },
    {
     "data": {
      "text/plain": [
       "True"
      ]
     },
     "execution_count": 37,
     "metadata": {},
     "output_type": "execute_result"
    }
   ],
   "source": [
    "import nltk\n",
    "from nltk.corpus import stopwords\n",
    "nltk.download('punkt')\n",
    "nltk.download(\"stopwords\")"
   ]
  },
  {
   "cell_type": "markdown",
   "metadata": {},
   "source": [
    "### Removing Stopwords"
   ]
  },
  {
   "cell_type": "code",
   "execution_count": 49,
   "metadata": {},
   "outputs": [
    {
     "name": "stdout",
     "output_type": "stream",
     "text": [
      "['i', 'me', 'my', 'myself', 'we', 'our', 'ours', 'ourselves', 'you', \"you're\", \"you've\", \"you'll\", \"you'd\", 'your', 'yours', 'yourself', 'yourselves', 'he', 'him', 'his', 'himself', 'she', \"she's\", 'her', 'hers', 'herself', 'it', \"it's\", 'its', 'itself', 'they', 'them', 'their', 'theirs', 'themselves', 'what', 'which', 'who', 'whom', 'this', 'that', \"that'll\", 'these', 'those', 'am', 'is', 'are', 'was', 'were', 'be', 'been', 'being', 'have', 'has', 'had', 'having', 'do', 'does', 'did', 'doing', 'a', 'an', 'the', 'and', 'but', 'if', 'or', 'because', 'as', 'until', 'while', 'of', 'at', 'by', 'for', 'with', 'about', 'against', 'between', 'into', 'through', 'during', 'before', 'after', 'above', 'below', 'to', 'from', 'up', 'down', 'in', 'out', 'on', 'off', 'over', 'under', 'again', 'further', 'then', 'once', 'here', 'there', 'when', 'where', 'why', 'how', 'all', 'any', 'both', 'each', 'few', 'more', 'most', 'other', 'some', 'such', 'no', 'nor', 'not', 'only', 'own', 'same', 'so', 'than', 'too', 'very', 's', 't', 'can', 'will', 'just', 'don', \"don't\", 'should', \"should've\", 'now', 'd', 'll', 'm', 'o', 're', 've', 'y', 'ain', 'aren', \"aren't\", 'couldn', \"couldn't\", 'didn', \"didn't\", 'doesn', \"doesn't\", 'hadn', \"hadn't\", 'hasn', \"hasn't\", 'haven', \"haven't\", 'isn', \"isn't\", 'ma', 'mightn', \"mightn't\", 'mustn', \"mustn't\", 'needn', \"needn't\", 'shan', \"shan't\", 'shouldn', \"shouldn't\", 'wasn', \"wasn't\", 'weren', \"weren't\", 'won', \"won't\", 'wouldn', \"wouldn't\"]\n"
     ]
    }
   ],
   "source": [
    "print(stopwords.words('english'))"
   ]
  },
  {
   "cell_type": "code",
   "execution_count": 50,
   "metadata": {},
   "outputs": [
    {
     "name": "stdout",
     "output_type": "stream",
     "text": [
      "['I', 'ME', 'MY', 'MYSELF', 'WE', 'OUR', 'OURS', 'OURSELVES', 'YOU', \"YOU'RE\", \"YOU'VE\", \"YOU'LL\", \"YOU'D\", 'YOUR', 'YOURS', 'YOURSELF', 'YOURSELVES', 'HE', 'HIM', 'HIS', 'HIMSELF', 'SHE', \"SHE'S\", 'HER', 'HERS', 'HERSELF', 'IT', \"IT'S\", 'ITS', 'ITSELF', 'THEY', 'THEM', 'THEIR', 'THEIRS', 'THEMSELVES', 'WHAT', 'WHICH', 'WHO', 'WHOM', 'THIS', 'THAT', \"THAT'LL\", 'THESE', 'THOSE', 'AM', 'IS', 'ARE', 'WAS', 'WERE', 'BE', 'BEEN', 'BEING', 'HAVE', 'HAS', 'HAD', 'HAVING', 'DO', 'DOES', 'DID', 'DOING', 'A', 'AN', 'THE', 'AND', 'BUT', 'IF', 'OR', 'BECAUSE', 'AS', 'UNTIL', 'WHILE', 'OF', 'AT', 'BY', 'FOR', 'WITH', 'ABOUT', 'AGAINST', 'BETWEEN', 'INTO', 'THROUGH', 'DURING', 'BEFORE', 'AFTER', 'ABOVE', 'BELOW', 'TO', 'FROM', 'UP', 'DOWN', 'IN', 'OUT', 'ON', 'OFF', 'OVER', 'UNDER', 'AGAIN', 'FURTHER', 'THEN', 'ONCE', 'HERE', 'THERE', 'WHEN', 'WHERE', 'WHY', 'HOW', 'ALL', 'ANY', 'BOTH', 'EACH', 'FEW', 'MORE', 'MOST', 'OTHER', 'SOME', 'SUCH', 'NO', 'NOR', 'NOT', 'ONLY', 'OWN', 'SAME', 'SO', 'THAN', 'TOO', 'VERY', 'S', 'T', 'CAN', 'WILL', 'JUST', 'DON', \"DON'T\", 'SHOULD', \"SHOULD'VE\", 'NOW', 'D', 'LL', 'M', 'O', 'RE', 'VE', 'Y', 'AIN', 'AREN', \"AREN'T\", 'COULDN', \"COULDN'T\", 'DIDN', \"DIDN'T\", 'DOESN', \"DOESN'T\", 'HADN', \"HADN'T\", 'HASN', \"HASN'T\", 'HAVEN', \"HAVEN'T\", 'ISN', \"ISN'T\", 'MA', 'MIGHTN', \"MIGHTN'T\", 'MUSTN', \"MUSTN'T\", 'NEEDN', \"NEEDN'T\", 'SHAN', \"SHAN'T\", 'SHOULDN', \"SHOULDN'T\", 'WASN', \"WASN'T\", 'WEREN', \"WEREN'T\", 'WON', \"WON'T\", 'WOULDN', \"WOULDN'T\"]\n"
     ]
    }
   ],
   "source": [
    "stop = stopwords.words('english')\n",
    "for i in range(len(stop)):\n",
    "    stop[i]=stop[i].upper()\n",
    "print(stop)"
   ]
  },
  {
   "cell_type": "code",
   "execution_count": 52,
   "metadata": {},
   "outputs": [
    {
     "data": {
      "text/plain": [
       "0        [B, v, e, w,  , c, p, l, e, e, l,  , g, n, r, ...\n",
       "1        [n, c, c, u, r, e,  , n, f, r, n,  , n,  , k, ...\n",
       "2        [n,  , X, X, X, X,  , X, X, X, X,  ,  ,  ,  , ...\n",
       "3        [ , h, v, e,  ,  , l, n,  , w, h,  ,  , K,  , ...\n",
       "4        [ , h, v, e,  ,  , X, X, X, X,  , B, G,  , c, ...\n",
       "                               ...                        \n",
       "14995    [ , h, v, e,  , n,  , r, e, c, e, v, e,  , n, ...\n",
       "14996    [h, e,  , p, r, b, l, e,  , h,  ,  , h, v, e, ...\n",
       "14997    [C, p, l,  , n, e,  , u,  , F, n, n, c, e,  , ...\n",
       "14998    [ , p, r, e, v, u, l,  , h, v, e,  , h,  , n, ...\n",
       "14999    [ , h, v, e,  , X, X, X, X,  , h, r,  , n, q, ...\n",
       "Name: Consumer_complaint, Length: 15000, dtype: object"
      ]
     },
     "execution_count": 52,
     "metadata": {},
     "output_type": "execute_result"
    }
   ],
   "source": [
    "for i in range(15000):\n",
    "    list1=[]\n",
    "    for j in x[i]:\n",
    "        if j.upper() not in stop:\n",
    "            list1.append(j)\n",
    "    x[i]=list1      \n",
    "            \n",
    "x"
   ]
  },
  {
   "cell_type": "code",
   "execution_count": 41,
   "metadata": {},
   "outputs": [
    {
     "name": "stdout",
     "output_type": "stream",
     "text": [
      "['Unnamed: 0', 'Product', 'Consumer_complaint']\n"
     ]
    },
    {
     "name": "stderr",
     "output_type": "stream",
     "text": [
      "[nltk_data] Downloading package wordnet to\n",
      "[nltk_data]     C:\\Users\\Asus\\AppData\\Roaming\\nltk_data...\n",
      "[nltk_data]   Package wordnet is already up-to-date!\n"
     ]
    },
    {
     "data": {
      "text/plain": [
       "True"
      ]
     },
     "execution_count": 41,
     "metadata": {},
     "output_type": "execute_result"
    }
   ],
   "source": [
    "\n",
    "print(list(d))\n",
    "nltk.download('wordnet')"
   ]
  },
  {
   "cell_type": "markdown",
   "metadata": {},
   "source": [
    "### Tokenization"
   ]
  },
  {
   "cell_type": "code",
   "execution_count": 42,
   "metadata": {},
   "outputs": [],
   "source": [
    "d['Consumer_complaint'] = d['Consumer_complaint'].str.lower()"
   ]
  },
  {
   "cell_type": "code",
   "execution_count": 43,
   "metadata": {},
   "outputs": [
    {
     "name": "stdout",
     "output_type": "stream",
     "text": [
      "bayview completely ignored laws and is reporting a disputed amount to the credit bureau. bayview took over my loan and even when i disputed according to the laws that are supposed to protect me, bayview ignored and reports my account late 60 days which included the disputed payment. bayview asked me to provide information i did, they reported to credit bureau and had caused me financial damage they are going this, as noted on your site too many many people, when will this company be stopped?\n"
     ]
    }
   ],
   "source": [
    "example_complaint=d.iloc[0]\n",
    "print(example_complaint['Consumer_complaint'])"
   ]
  },
  {
   "cell_type": "code",
   "execution_count": 44,
   "metadata": {},
   "outputs": [
    {
     "name": "stdout",
     "output_type": "stream",
     "text": [
      "['bayview', 'completely', 'ignored', 'laws', 'and', 'is', 'reporting', 'a', 'disputed', 'amount', 'to', 'the', 'credit', 'bureau', '.', 'bayview', 'took', 'over', 'my', 'loan', 'and', 'even', 'when', 'i', 'disputed', 'according', 'to', 'the', 'laws', 'that', 'are', 'supposed', 'to', 'protect', 'me', ',', 'bayview', 'ignored', 'and', 'reports', 'my', 'account', 'late', '60', 'days', 'which', 'included', 'the', 'disputed', 'payment', '.', 'bayview', 'asked', 'me', 'to', 'provide', 'information', 'i', 'did', ',', 'they', 'reported', 'to', 'credit', 'bureau', 'and', 'had', 'caused', 'me', 'financial', 'damage', 'they', 'are', 'going', 'this', ',', 'as', 'noted', 'on', 'your', 'site', 'too', 'many', 'many', 'people', ',', 'when', 'will', 'this', 'company', 'be', 'stopped', '?']\n"
     ]
    }
   ],
   "source": [
    "print(nltk.word_tokenize(example_complaint['Consumer_complaint']))"
   ]
  },
  {
   "cell_type": "code",
   "execution_count": 45,
   "metadata": {},
   "outputs": [
    {
     "data": {
      "text/plain": [
       "0        bayview completely ignored laws and is reporti...\n",
       "1        inaccurate information no knowledge of account...\n",
       "2        on xxxx/xxxx/2016 i received a notice from con...\n",
       "3        i have a loan with  kia motor finance. i  rece...\n",
       "4        i have a xxxx big card and made my payment whe...\n",
       "                               ...                        \n",
       "14995    i have not received any documentation validati...\n",
       "14996    the problem that i have is that i am being tol...\n",
       "14997    capital one auto finance continues to report a...\n",
       "14998    i previously have had an account with pnc bank...\n",
       "14999    i have xxxx hard inquiries on my equifax credi...\n",
       "Name: Consumer_complaint, Length: 15000, dtype: object"
      ]
     },
     "execution_count": 45,
     "metadata": {},
     "output_type": "execute_result"
    }
   ],
   "source": [
    "d['Consumer_complaint']"
   ]
  },
  {
   "cell_type": "code",
   "execution_count": 46,
   "metadata": {},
   "outputs": [
    {
     "name": "stderr",
     "output_type": "stream",
     "text": [
      "E:\\Users\\Asus\\Anaconda3\\lib\\site-packages\\ipykernel_launcher.py:3: SettingWithCopyWarning: \n",
      "A value is trying to be set on a copy of a slice from a DataFrame\n",
      "\n",
      "See the caveats in the documentation: http://pandas.pydata.org/pandas-docs/stable/user_guide/indexing.html#returning-a-view-versus-a-copy\n",
      "  This is separate from the ipykernel package so we can avoid doing imports until\n"
     ]
    },
    {
     "data": {
      "text/plain": [
       "0        [bayview, completely, ignored, laws, and, is, ...\n",
       "1        [inaccurate, information, no, knowledge, of, a...\n",
       "2        [on, xxxx/xxxx/2016, i, received, a, notice, f...\n",
       "3        [i, have, a, loan, with, kia, motor, finance, ...\n",
       "4        [i, have, a, xxxx, big, card, and, made, my, p...\n",
       "                               ...                        \n",
       "14995    [i, have, not, received, any, documentation, v...\n",
       "14996    [the, problem, that, i, have, is, that, i, am,...\n",
       "14997    [capital, one, auto, finance, continues, to, r...\n",
       "14998    [i, previously, have, had, an, account, with, ...\n",
       "14999    [i, have, xxxx, hard, inquiries, on, my, equif...\n",
       "Name: Consumer_complaint, Length: 15000, dtype: object"
      ]
     },
     "execution_count": 46,
     "metadata": {},
     "output_type": "execute_result"
    }
   ],
   "source": [
    "z=d['Consumer_complaint']\n",
    "for i in range(len(z)):\n",
    "    z[i]=nltk.word_tokenize(z[i])\n",
    "z"
   ]
  },
  {
   "cell_type": "code",
   "execution_count": 47,
   "metadata": {},
   "outputs": [
    {
     "name": "stdout",
     "output_type": "stream",
     "text": [
      "['I', 'ME', 'MY', 'MYSELF', 'WE', 'OUR', 'OURS', 'OURSELVES', 'YOU', \"YOU'RE\", \"YOU'VE\", \"YOU'LL\", \"YOU'D\", 'YOUR', 'YOURS', 'YOURSELF', 'YOURSELVES', 'HE', 'HIM', 'HIS', 'HIMSELF', 'SHE', \"SHE'S\", 'HER', 'HERS', 'HERSELF', 'IT', \"IT'S\", 'ITS', 'ITSELF', 'THEY', 'THEM', 'THEIR', 'THEIRS', 'THEMSELVES', 'WHAT', 'WHICH', 'WHO', 'WHOM', 'THIS', 'THAT', \"THAT'LL\", 'THESE', 'THOSE', 'AM', 'IS', 'ARE', 'WAS', 'WERE', 'BE', 'BEEN', 'BEING', 'HAVE', 'HAS', 'HAD', 'HAVING', 'DO', 'DOES', 'DID', 'DOING', 'A', 'AN', 'THE', 'AND', 'BUT', 'IF', 'OR', 'BECAUSE', 'AS', 'UNTIL', 'WHILE', 'OF', 'AT', 'BY', 'FOR', 'WITH', 'ABOUT', 'AGAINST', 'BETWEEN', 'INTO', 'THROUGH', 'DURING', 'BEFORE', 'AFTER', 'ABOVE', 'BELOW', 'TO', 'FROM', 'UP', 'DOWN', 'IN', 'OUT', 'ON', 'OFF', 'OVER', 'UNDER', 'AGAIN', 'FURTHER', 'THEN', 'ONCE', 'HERE', 'THERE', 'WHEN', 'WHERE', 'WHY', 'HOW', 'ALL', 'ANY', 'BOTH', 'EACH', 'FEW', 'MORE', 'MOST', 'OTHER', 'SOME', 'SUCH', 'NO', 'NOR', 'NOT', 'ONLY', 'OWN', 'SAME', 'SO', 'THAN', 'TOO', 'VERY', 'S', 'T', 'CAN', 'WILL', 'JUST', 'DON', \"DON'T\", 'SHOULD', \"SHOULD'VE\", 'NOW', 'D', 'LL', 'M', 'O', 'RE', 'VE', 'Y', 'AIN', 'AREN', \"AREN'T\", 'COULDN', \"COULDN'T\", 'DIDN', \"DIDN'T\", 'DOESN', \"DOESN'T\", 'HADN', \"HADN'T\", 'HASN', \"HASN'T\", 'HAVEN', \"HAVEN'T\", 'ISN', \"ISN'T\", 'MA', 'MIGHTN', \"MIGHTN'T\", 'MUSTN', \"MUSTN'T\", 'NEEDN', \"NEEDN'T\", 'SHAN', \"SHAN'T\", 'SHOULDN', \"SHOULDN'T\", 'WASN', \"WASN'T\", 'WEREN', \"WEREN'T\", 'WON', \"WON'T\", 'WOULDN', \"WOULDN'T\"]\n"
     ]
    }
   ],
   "source": []
  },
  {
   "cell_type": "code",
   "execution_count": 48,
   "metadata": {},
   "outputs": [
    {
     "data": {
      "text/plain": [
       "0        [B, a, y, v, i, e, w,  , c, o, m, p, l, e, t, ...\n",
       "1        [i, n, a, c, c, u, r, a, t, e,  , i, n, f, o, ...\n",
       "2        [O, n,  , X, X, X, X,  , X, X, X, X,  ,  ,  , ...\n",
       "3        [I,  , h, a, v, e,  , a,  , l, o, a, n,  , w, ...\n",
       "4        [I,  , h, a, v, e,  , a,  , X, X, X, X,  , B, ...\n",
       "                               ...                        \n",
       "14995    [I,  , h, a, v, e,  , n, o, t,  , r, e, c, e, ...\n",
       "14996    [T, h, e,  , p, r, o, b, l, e, m,  , t, h, a, ...\n",
       "14997    [C, a, p, i, t, a, l,  , O, n, e,  , A, u, t, ...\n",
       "14998    [I,  , p, r, e, v, i, o, u, s, l, y,  , h, a, ...\n",
       "14999    [I,  , h, a, v, e,  , X, X, X, X,  , h, a, r, ...\n",
       "Name: Consumer_complaint, Length: 15000, dtype: object"
      ]
     },
     "execution_count": 48,
     "metadata": {},
     "output_type": "execute_result"
    }
   ],
   "source": []
  },
  {
   "cell_type": "markdown",
   "metadata": {},
   "source": [
    "### Stemming"
   ]
  },
  {
   "cell_type": "code",
   "execution_count": 20,
   "metadata": {},
   "outputs": [
    {
     "name": "stdout",
     "output_type": "stream",
     "text": [
      "0        [bayview, complet, ignor, law, and, is, report...\n",
      "1        [inaccur, inform, no, knowledg, of, account, f...\n",
      "2        [on, xxxx/xxxx/2016, i, receiv, a, notic, from...\n",
      "3        [i, have, a, loan, with, kia, motor, financ, ....\n",
      "4        [i, have, a, xxxx, big, card, and, made, my, p...\n",
      "                               ...                        \n",
      "14995    [i, have, not, receiv, ani, document, valid, t...\n",
      "14996    [the, problem, that, i, have, is, that, i, am,...\n",
      "14997    [capit, one, auto, financ, continu, to, report...\n",
      "14998    [i, previous, have, had, an, account, with, pn...\n",
      "14999    [i, have, xxxx, hard, inquiri, on, my, equifax...\n",
      "Name: Consumer_complaint, Length: 15000, dtype: object\n"
     ]
    }
   ],
   "source": [
    "from nltk.stem import PorterStemmer\n",
    "y=z[:]\n",
    "stemmer=PorterStemmer()\n",
    "for j in range(len(y)):\n",
    "    for i in range(len(y[j])):\n",
    "        y[j][i]=stemmer.stem(y[j][i])\n",
    "print(y)"
   ]
  },
  {
   "cell_type": "code",
   "execution_count": 25,
   "metadata": {},
   "outputs": [
    {
     "name": "stdout",
     "output_type": "stream",
     "text": [
      "['I', 'ME', 'MY', 'MYSELF', 'WE', 'OUR', 'OURS', 'OURSELVES', 'YOU', \"YOU'RE\", \"YOU'VE\", \"YOU'LL\", \"YOU'D\", 'YOUR', 'YOURS', 'YOURSELF', 'YOURSELVES', 'HE', 'HIM', 'HIS', 'HIMSELF', 'SHE', \"SHE'S\", 'HER', 'HERS', 'HERSELF', 'IT', \"IT'S\", 'ITS', 'ITSELF', 'THEY', 'THEM', 'THEIR', 'THEIRS', 'THEMSELVES', 'WHAT', 'WHICH', 'WHO', 'WHOM', 'THIS', 'THAT', \"THAT'LL\", 'THESE', 'THOSE', 'AM', 'IS', 'ARE', 'WAS', 'WERE', 'BE', 'BEEN', 'BEING', 'HAVE', 'HAS', 'HAD', 'HAVING', 'DO', 'DOES', 'DID', 'DOING', 'A', 'AN', 'THE', 'AND', 'BUT', 'IF', 'OR', 'BECAUSE', 'AS', 'UNTIL', 'WHILE', 'OF', 'AT', 'BY', 'FOR', 'WITH', 'ABOUT', 'AGAINST', 'BETWEEN', 'INTO', 'THROUGH', 'DURING', 'BEFORE', 'AFTER', 'ABOVE', 'BELOW', 'TO', 'FROM', 'UP', 'DOWN', 'IN', 'OUT', 'ON', 'OFF', 'OVER', 'UNDER', 'AGAIN', 'FURTHER', 'THEN', 'ONCE', 'HERE', 'THERE', 'WHEN', 'WHERE', 'WHY', 'HOW', 'ALL', 'ANY', 'BOTH', 'EACH', 'FEW', 'MORE', 'MOST', 'OTHER', 'SOME', 'SUCH', 'NO', 'NOR', 'NOT', 'ONLY', 'OWN', 'SAME', 'SO', 'THAN', 'TOO', 'VERY', 'S', 'T', 'CAN', 'WILL', 'JUST', 'DON', \"DON'T\", 'SHOULD', \"SHOULD'VE\", 'NOW', 'D', 'LL', 'M', 'O', 'RE', 'VE', 'Y', 'AIN', 'AREN', \"AREN'T\", 'COULDN', \"COULDN'T\", 'DIDN', \"DIDN'T\", 'DOESN', \"DOESN'T\", 'HADN', \"HADN'T\", 'HASN', \"HASN'T\", 'HAVEN', \"HAVEN'T\", 'ISN', \"ISN'T\", 'MA', 'MIGHTN', \"MIGHTN'T\", 'MUSTN', \"MUSTN'T\", 'NEEDN', \"NEEDN'T\", 'SHAN', \"SHAN'T\", 'SHOULDN', \"SHOULDN'T\", 'WASN', \"WASN'T\", 'WEREN', \"WEREN'T\", 'WON', \"WON'T\", 'WOULDN', \"WOULDN'T\"]\n"
     ]
    }
   ],
   "source": []
  },
  {
   "cell_type": "code",
   "execution_count": 26,
   "metadata": {},
   "outputs": [
    {
     "data": {
      "text/plain": [
       "0        [B, v, e, w,  , c, p, l, e, e, l,  , g, n, r, ...\n",
       "1        [n, c, c, u, r, e,  , n, f, r, n,  , n,  , k, ...\n",
       "2        [n,  , X, X, X, X,  , X, X, X, X,  ,  ,  ,  , ...\n",
       "3        [ , h, v, e,  ,  , l, n,  , w, h,  ,  , K,  , ...\n",
       "4        [ , h, v, e,  ,  , X, X, X, X,  , B, G,  , c, ...\n",
       "                               ...                        \n",
       "14995    [ , h, v, e,  , n,  , r, e, c, e, v, e,  , n, ...\n",
       "14996    [h, e,  , p, r, b, l, e,  , h,  ,  , h, v, e, ...\n",
       "14997    [C, p, l,  , n, e,  , u,  , F, n, n, c, e,  , ...\n",
       "14998    [ , p, r, e, v, u, l,  , h, v, e,  , h,  , n, ...\n",
       "14999    [ , h, v, e,  , X, X, X, X,  , h, r,  , n, q, ...\n",
       "Name: Consumer_complaint, Length: 15000, dtype: object"
      ]
     },
     "execution_count": 26,
     "metadata": {},
     "output_type": "execute_result"
    }
   ],
   "source": [
    "for i in range(15000):\n",
    "    list1=[]\n",
    "    for j in x[i]:\n",
    "        if j.lower() not in stop:\n",
    "            list1.append(j)\n",
    "    x[i]=list1      \n",
    "            \n",
    "x"
   ]
  },
  {
   "cell_type": "code",
   "execution_count": null,
   "metadata": {},
   "outputs": [],
   "source": [
    "from nltk.stem import WordNetLemmatizer\n",
    "lemmatizer=WordNetLemmatizer()\n",
    "for j in range(len(x)):\n",
    "    for i in range(len(x[j])):\n",
    "        x[j][i]=lemmatizer.lemmatize(x[j][i])\n",
    "print(x)"
   ]
  },
  {
   "cell_type": "code",
   "execution_count": null,
   "metadata": {},
   "outputs": [],
   "source": [
    "d.info()"
   ]
  },
  {
   "cell_type": "markdown",
   "metadata": {},
   "source": [
    "### Data Visualization"
   ]
  },
  {
   "cell_type": "code",
   "execution_count": null,
   "metadata": {},
   "outputs": [],
   "source": [
    "z=d['Product']\n",
    "di={}\n",
    "for i in z:\n",
    "    if i in di:\n",
    "        di[i]+=1\n",
    "    else:\n",
    "        di[i]=1\n",
    "arr1=[]\n",
    "arr2=[]\n",
    "for i in di:\n",
    "    arr1.append(i)\n",
    "    arr2.append(di[i])"
   ]
  },
  {
   "cell_type": "code",
   "execution_count": null,
   "metadata": {},
   "outputs": [],
   "source": [
    "#How many complaints for each product?\n",
    "fig,ax=plt.subplots()\n",
    "fig = plt.figure(figsize =(10, 7)) \n",
    "ax.pie (arr2,labels=arr1,autopct='%.1f%%',shadow=True,radius=3)\n",
    "\n",
    "ax.set_aspect ('equal')\n",
    "\n",
    "plt.show ()\n",
    "import re"
   ]
  },
  {
   "cell_type": "markdown",
   "metadata": {},
   "source": [
    "## Data Splitting"
   ]
  },
  {
   "cell_type": "code",
   "execution_count": null,
   "metadata": {},
   "outputs": [],
   "source": [
    "from sklearn.model_selection import train_test_split\n",
    "y = d.iloc[:, 1].values\n",
    "X = d.iloc[:, -1].values\n",
    "X_train, X_test, y_train, y_test = train_test_split(X, y, test_size = 0.3, random_state = 1)"
   ]
  },
  {
   "cell_type": "code",
   "execution_count": null,
   "metadata": {},
   "outputs": [],
   "source": [
    "from sklearn.preprocessing import LabelEncoder\n",
    "le = LabelEncoder()\n",
    "Y = le.fit_transform(y)\n",
    "le.classes_"
   ]
  },
  {
   "cell_type": "code",
   "execution_count": null,
   "metadata": {},
   "outputs": [],
   "source": [
    "#Fitting the Classifier to the Training set\n",
    "from sklearn.tree import DecisionTreeClassifier\n",
    "classifier = DecisionTreeClassifier(criterion = \"entropy\", random_state = 0)\n",
    "classifier.fit(X_train, y_train)"
   ]
  },
  {
   "cell_type": "code",
   "execution_count": null,
   "metadata": {},
   "outputs": [],
   "source": []
  }
 ],
 "metadata": {
  "kernelspec": {
   "display_name": "Python 3",
   "language": "python",
   "name": "python3"
  },
  "language_info": {
   "codemirror_mode": {
    "name": "ipython",
    "version": 3
   },
   "file_extension": ".py",
   "mimetype": "text/x-python",
   "name": "python",
   "nbconvert_exporter": "python",
   "pygments_lexer": "ipython3",
   "version": "3.7.4"
  }
 },
 "nbformat": 4,
 "nbformat_minor": 2
}
